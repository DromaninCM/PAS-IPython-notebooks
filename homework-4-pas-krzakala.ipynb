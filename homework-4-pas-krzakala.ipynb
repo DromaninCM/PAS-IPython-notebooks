{
 "cells": [
  {
   "cell_type": "markdown",
   "metadata": {},
   "source": [
    "# Homework 4: Ising Spins"
   ]
  },
  {
   "cell_type": "markdown",
   "metadata": {},
   "source": [
    "Consider $i = 1, \\ldots, N$ spins taking values $S_i = \\pm 1$, on a 2D grid of size $(L \\times L)$, with $N = L^2$ and periodic boundary conditions. The Hamiltonian reads:\n",
    "\n",
    "$$\n",
    "H= - \\displaystyle \\sum_{\\langle ij \\rangle} s_i s_j\n",
    "$$\n",
    "\n",
    "where $\\langle ij \\rangle$ denote the complete set of links $i,j$ on the 2D grid. Use the convention $k_B = J = 1$, so that $\\beta = 1/T$."
   ]
  },
  {
   "cell_type": "code",
   "execution_count": 1,
   "metadata": {
    "collapsed": true
   },
   "outputs": [],
   "source": [
    "import numpy as np\n",
    "import matplotlib.pyplot as plt\n",
    "%matplotlib inline"
   ]
  },
  {
   "cell_type": "code",
   "execution_count": 27,
   "metadata": {
    "collapsed": false
   },
   "outputs": [],
   "source": [
    "class lattice:\n",
    "    def __init__(self, L, T, **kwargs):\n",
    "        # initialize the 2D lattice in an ordered state if\n",
    "        # key config is \"ordered\", and in a random state if\n",
    "        # key config is \"random\".\n",
    "        # Also define T and initialize two empty vectors to \n",
    "        # collect values  of energy and magnetization at \n",
    "        # each MCMC step.\n",
    "        self.start_config = kwargs.get(\"config\", \"random\")\n",
    "        if self.start_config == \"random\":\n",
    "            self.grid = np.random.choice([1, -1], [L, L])\n",
    "        elif self.start_config == \"ordered\":\n",
    "            self.grid = np.ones([L, L])\n",
    "        self.beta = 1.0/T\n",
    "        self.L = L\n",
    "        self.energy = []\n",
    "        self.magnetization = []\n",
    "    \n",
    "    def MCMC(self, n_steps):\n",
    "        \n",
    "        def delta_energy(grid, i, j):\n",
    "            # computes delta energy over neighbours with periodic boundary conditions\n",
    "            delta_E = -2*grid[i][j]*(grid[i][(j+1) % (self.L)] + \\\n",
    "                  grid[i][(j-1) % (self.L)] + \\\n",
    "                  grid[(i+1)%self.L][j] + \\\n",
    "                  grid[(i-1)%self.L][j])\n",
    "                  #CHECK THE MINUS SIGN\n",
    "            return delta_E\n",
    "        \n",
    "        for step in xrange(n_steps):\n",
    "            # auxiliary variable MAYBE YOU CAN REMOVE THE MINUS IN DELTA_E AND DON'T USE THIS AUX VARIABLE\n",
    "            trial_grid = np.empty_like(self.grid)\n",
    "            np.copyto(trial_grid, self.grid)\n",
    "            \n",
    "            # choose randomly a spin\n",
    "            ix, iy = np.random.randint(0, self.L, size = 2)\n",
    "            \n",
    "            # try to flip it\n",
    "            trial_grid[ix][iy] *= -1\n",
    "            \n",
    "            # Metropolis\n",
    "            delta_E = delta_energy(trial_grid, ix, iy)\n",
    "            p = min([1, np.exp(-self.beta*delta_E)])\n",
    "            if p > 1 or np.random.rand() < p:\n",
    "                self.grid[ix][iy] *= -1\n",
    "                \n",
    "            self.energy.append(self.compute_energy())\n",
    "            self.magnetization.append(self.compute_magnetization())\n",
    "                \n",
    "    def compute_energy(self):\n",
    "        # compute the energy of a configuration as sum over neighbors\n",
    "        # of the product of spins\n",
    "        energy = 0\n",
    "        for i in xrange(self.L):\n",
    "            for j in xrange(self.L):\n",
    "                energy += self.grid[i][j]*(self.grid[i][(j+1) % (self.L)] + \\\n",
    "                  self.grid[i][(j-1) % (self.L)] + \\\n",
    "                  self.grid[(i+1)%self.L][j] + \\\n",
    "                  self.grid[(i-1)%self.L][j])\n",
    "        return -energy\n",
    "                 \n",
    "    def compute_magnetization(self):\n",
    "        # compute the magnetization\n",
    "        return np.sum(self.grid)\n",
    "        \n",
    "    def reset_observables(self):\n",
    "        self.energy = []\n",
    "        self.magnetization = []\n",
    "                \n",
    "    def plot_lattice(self, **kwargs):\n",
    "        self.title = kwargs.get(\"title\", \"\")\n",
    "        for i in xrange(self.L):\n",
    "            for j in xrange(self.L):\n",
    "                if self.grid[i][j] == 1:\n",
    "                    plt.plot(i, j, \"r^\")\n",
    "                else:\n",
    "                    plt.plot(i, j, \"bv\")\n",
    "        plt.xlim([-0.5, self.L - 0.5])\n",
    "        plt.ylim([-0.5, self.L - 0.5])\n",
    "        plt.title(self.title)\n",
    "        plt.axes().set_aspect('equal')\n",
    "        plt.show()"
   ]
  },
  {
   "cell_type": "code",
   "execution_count": 37,
   "metadata": {
    "collapsed": true
   },
   "outputs": [],
   "source": [
    "G = lattice(30, 0.5)"
   ]
  },
  {
   "cell_type": "code",
   "execution_count": 38,
   "metadata": {
    "collapsed": false
   },
   "outputs": [
    {
     "data": {
      "image/png": "[encoded data removed]",
      "text/plain": [
       "<matplotlib.figure.Figure at 0x1132a8410>"
      ]
     },
     "metadata": {},
     "output_type": "display_data"
    }
   ],
   "source": [
    "G.MCMC(20000)\n",
    "G.plot_lattice()"
   ]
  },
  {
   "cell_type": "code",
   "execution_count": 39,
   "metadata": {
    "collapsed": false
   },
   "outputs": [
    {
     "data": {
      "image/png": "[encoded data removed]",
      "text/plain": [
       "<matplotlib.figure.Figure at 0x113fafbd0>"
      ]
     },
     "metadata": {},
     "output_type": "display_data"
    }
   ],
   "source": [
    "plt.plot(xrange(len(G.energy)), np.asarray(G.energy)/900.0, label = \"E\")\n",
    "plt.plot(xrange(len(G.magnetization)), np.asarray(G.magnetization)/900.0, label=\"m\")\n",
    "plt.legend()\n",
    "plt.show()"
   ]
  },
  {
   "cell_type": "code",
   "execution_count": 40,
   "metadata": {
    "collapsed": false
   },
   "outputs": [
    {
     "name": "stdout",
     "output_type": "stream",
     "text": [
      "-0.0133333333333\n"
     ]
    }
   ],
   "source": [
    "M = (np.sum(G.grid==1)-np.sum(G.grid==-1))/900.0\n",
    "print M"
   ]
  },
  {
   "cell_type": "code",
   "execution_count": null,
   "metadata": {
    "collapsed": true
   },
   "outputs": [],
   "source": []
  }
 ],
 "metadata": {
  "kernelspec": {
   "display_name": "Python 2",
   "language": "python",
   "name": "python2"
  },
  "language_info": {
   "codemirror_mode": {
    "name": "ipython",
    "version": 2
   },
   "file_extension": ".py",
   "mimetype": "text/x-python",
   "name": "python",
   "nbconvert_exporter": "python",
   "pygments_lexer": "ipython2",
   "version": "2.7.10"
  }
 },
 "nbformat": 4,
 "nbformat_minor": 0
}
